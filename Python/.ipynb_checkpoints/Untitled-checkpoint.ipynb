{
 "cells": [
  {
   "cell_type": "code",
   "execution_count": 1,
   "metadata": {},
   "outputs": [],
   "source": [
    "import json\n",
    "import csv\n",
    "import pymongo"
   ]
  },
  {
   "cell_type": "code",
   "execution_count": 53,
   "metadata": {},
   "outputs": [
    {
     "name": "stdout",
     "output_type": "stream",
     "text": [
      "{'type': 'Feature', 'properties': {'GEO_ID': '0500000US01001', 'STATE': '01', 'COUNTY': '001', 'NAME': 'Autauga', 'LSAD': 'County', 'CENSUSAREA': 594.436, 'blah': '0.01'}, 'geometry': {'type': 'Polygon', 'coordinates': [[[-86.496774, 32.344437], [-86.717897, 32.402814], [-86.814912, 32.340803], [-86.890581, 32.502974], [-86.917595, 32.664169], [-86.71339, 32.661732], [-86.714219, 32.705694], [-86.413116, 32.707386], [-86.411172, 32.409937], [-86.496774, 32.344437]]]}}\n"
     ]
    }
   ],
   "source": [
    "with open ('../data/County GeoJSON.json') as json_file:\n",
    "    countydata = json.load(json_file)\n",
    "    newjson = {\"type\": \"FeatureCollection\",\"features\": []}\n",
    "    for x in countydata[\"features\"]:\n",
    "        fips=int(x[\"properties\"][\"STATE\"]+x[\"properties\"][\"COUNTY\"])\n",
    "        with open ('../data/FIP_FDI_percentage.csv') as csv_file:\n",
    "            next(csv_file)\n",
    "            csv_reader = csv.reader(csv_file, delimiter=',')\n",
    "            for row in csv_reader:\n",
    "                if int(row[3]) == int(fips):\n",
    "                    x[\"properties\"][\"FD%\"]=row[8]\n",
    "                    x[\"properties\"][\"Median Icome\"] = row[6]\n",
    "                    x[\"properties\"][\"% White\"]=row[9]\n",
    "                    x[\"properties\"][\"% Minority\"]=row[10]\n",
    "                    newjson[\"features\"].append(x)\n",
    "print(newjson[\"features\"][0])"
   ]
  },
  {
   "cell_type": "code",
   "execution_count": 13,
   "metadata": {},
   "outputs": [],
   "source": [
    "z = countydata[\"features\"][0]"
   ]
  },
  {
   "cell_type": "code",
   "execution_count": 15,
   "metadata": {},
   "outputs": [],
   "source": [
    "y = z[\"properties\"][\"STATE\"]+z[\"properties\"][\"COUNTY\"]"
   ]
  },
  {
   "cell_type": "code",
   "execution_count": 16,
   "metadata": {},
   "outputs": [
    {
     "data": {
      "text/plain": [
       "1001"
      ]
     },
     "execution_count": 16,
     "metadata": {},
     "output_type": "execute_result"
    }
   ],
   "source": []
  },
  {
   "cell_type": "code",
   "execution_count": null,
   "metadata": {},
   "outputs": [],
   "source": []
  }
 ],
 "metadata": {
  "kernelspec": {
   "display_name": "Python 3",
   "language": "python",
   "name": "python3"
  },
  "language_info": {
   "codemirror_mode": {
    "name": "ipython",
    "version": 3
   },
   "file_extension": ".py",
   "mimetype": "text/x-python",
   "name": "python",
   "nbconvert_exporter": "python",
   "pygments_lexer": "ipython3",
   "version": "3.7.1"
  }
 },
 "nbformat": 4,
 "nbformat_minor": 2
}
